{
 "cells": [
  {
   "cell_type": "markdown",
   "metadata": {},
   "source": [
    "# MDM imaging analysis"
   ]
  },
  {
   "cell_type": "code",
   "execution_count": 1,
   "metadata": {},
   "outputs": [
    {
     "data": {
      "application/javascript": [
       "IPython.notebook.set_autosave_interval(5000)"
      ]
     },
     "metadata": {},
     "output_type": "display_data"
    },
    {
     "name": "stdout",
     "output_type": "stream",
     "text": [
      "Autosaving every 5 seconds\n"
     ]
    }
   ],
   "source": [
    "# load modules\n",
    "from scipy.stats import stats\n",
    "import nibabel as nib\n",
    "import numpy as np\n",
    "from matplotlib import pyplot as plt\n",
    "import os\n",
    "import glob\n",
    "from sklearn import preprocessing\n",
    "from sklearn.preprocessing import StandardScaler\n",
    "from nilearn.input_data import NiftiMasker\n",
    "import nilearn.plotting as plotting\n",
    "import pickle\n",
    "import pandas as pd\n",
    "import seaborn as sns \n",
    "\n",
    "%matplotlib inline \n",
    "%autosave 5\n",
    "sns.set(style = 'white', context='poster', rc={\"lines.linewidth\": 2.5})"
   ]
  },
  {
   "cell_type": "markdown",
   "metadata": {},
   "source": [
    "## Rename task number to run number."
   ]
  },
  {
   "cell_type": "code",
   "execution_count": 10,
   "metadata": {},
   "outputs": [],
   "source": [
    "data_root = '/home/rj299/project/mdm_analysis/data_rename'"
   ]
  },
  {
   "cell_type": "code",
   "execution_count": 12,
   "metadata": {},
   "outputs": [],
   "source": [
    "os.chdir(os.path.join(data_root, 'sub-2073'))"
   ]
  },
  {
   "cell_type": "code",
   "execution_count": 13,
   "metadata": {},
   "outputs": [],
   "source": [
    "filename_test = os.listdir()[0]"
   ]
  },
  {
   "cell_type": "code",
   "execution_count": 14,
   "metadata": {},
   "outputs": [
    {
     "data": {
      "text/plain": [
       "'6'"
      ]
     },
     "execution_count": 14,
     "metadata": {},
     "output_type": "execute_result"
    }
   ],
   "source": [
    "filename_test.split('_task-task')[1].split('_')[0]"
   ]
  },
  {
   "cell_type": "code",
   "execution_count": 101,
   "metadata": {},
   "outputs": [],
   "source": [
    "# functions for changing file names\n",
    "\n",
    "# rename all files by adding run number determined by session and task number during scanning\n",
    "def addRunNum(directory): \n",
    "    \"\"\" Add scan run numbers to file name\n",
    "    \n",
    "    Parameters\n",
    "    --------------\n",
    "    directory: directory for a subject, contains data for all runs\n",
    "    \n",
    "    \"\"\"\n",
    "    os.chdir(directory)\n",
    "    \n",
    "    # get sorted task number from the directory\n",
    "    task_num_all = getTaskNum(directory)\n",
    "    \n",
    "    # add run number and rename\n",
    "    for filename in os.listdir(directory):\n",
    "        # get task number\n",
    "        task_num = int(filename.split('_task-task')[1].split('_')[0])\n",
    "        \n",
    "        # get the run number based on all the task number in the directory\n",
    "        run_count = task_num_all.index(task_num) + 1\n",
    "\n",
    "        \n",
    "        filename_new = filename.split('_task-task%s' %task_num)[0] + '_run-%s' %run_count + filename.split('_task-task%s' %task_num)[1]\n",
    "\n",
    "        os.rename(filename, filename_new)  \n",
    "        print(filename_new)\n",
    "\n",
    "# get all task numbers for ses one\n",
    "def getTaskNum(directory):\n",
    "    \"\"\" Get all the task number for a session\n",
    "    \n",
    "    Parameters\n",
    "    -----------------\n",
    "    directory: data directory for a subject\n",
    "    \n",
    "    Return\n",
    "    -----------------\n",
    "    task_num: sorted task number for each session\n",
    "    \"\"\"\n",
    "    file_ses = glob.glob('sub-*_ses-1_task*_bold.nii.gz')\n",
    "    \n",
    "    task_num = []\n",
    "    \n",
    "    for file in file_ses:\n",
    "        task_id = file.split('_task-task')[1].split('_space')[0]\n",
    "        task_num.append(int(task_id))\n",
    "    \n",
    "    task_num.sort()\n",
    "    \n",
    "    return task_num"
   ]
  },
  {
   "cell_type": "code",
   "execution_count": 107,
   "metadata": {},
   "outputs": [
    {
     "name": "stdout",
     "output_type": "stream",
     "text": [
      "All subjects included in analysis: [2597, 2662, 2583, 2596, 2659, 2594, 2653, 2600, 2598, 2657, 2593, 2652, 2073, 2656, 2592, 2651, 2655, 2650, 2588, 2550, 2666, 2582, 2665, 2660, 2664, 2585, 2624, 2663, 2584]\n"
     ]
    }
   ],
   "source": [
    "# get all subjects folder\n",
    "sub_fold = glob.glob(data_root + '/sub-*')\n",
    "\n",
    "# get all subject id\n",
    "sub_num = [] \n",
    "for fold in sub_fold:\n",
    "    sub_id = fold.split('sub-')[1]\n",
    "    sub_num.append(int(sub_id))\n",
    "print('All subjects included in analysis:', sub_num)"
   ]
  },
  {
   "cell_type": "code",
   "execution_count": 99,
   "metadata": {},
   "outputs": [
    {
     "data": {
      "text/plain": [
       "False"
      ]
     },
     "execution_count": 99,
     "metadata": {},
     "output_type": "execute_result"
    }
   ],
   "source": [
    "fold != '/home/rj299/project/mdm_analysis/data_rename/sub-2582'"
   ]
  },
  {
   "cell_type": "code",
   "execution_count": 108,
   "metadata": {},
   "outputs": [],
   "source": [
    "# rename files and add run number in the file name\n",
    "# needs running only ONCE\n",
    "\n",
    "# for fold in sub_fold:\n",
    "#     if fold != '/home/rj299/project/mdm_analysis/data_rename/sub-2582':\n",
    "#         addRunNum(fold)"
   ]
  },
  {
   "cell_type": "code",
   "execution_count": null,
   "metadata": {},
   "outputs": [],
   "source": [
    "# rename files and add run number in the file name\n",
    "# subject 2582 only, because the files are named in a different way\n",
    "# rename all files by adding run number determined by session and task number during scanning\n",
    "def addRunNum(directory): \n",
    "    \"\"\" Add scan run numbers to file name\n",
    "    \n",
    "    Parameters\n",
    "    --------------\n",
    "    directory: directory for a subject, contains data for all runs\n",
    "    \n",
    "    \"\"\"\n",
    "    os.chdir(directory)\n",
    "    \n",
    "    # get sorted task number from the directory\n",
    "    task_num_all = getTaskNum(directory)\n",
    "    \n",
    "    # add run number and rename\n",
    "    for filename in os.listdir(directory):\n",
    "        # get task number\n",
    "        task_num = int(filename.split('_task-task')[1].split('_')[0])\n",
    "        \n",
    "        # get the run number based on all the task number in the directory\n",
    "        run_count = task_num_all.index(task_num) + 1\n",
    "\n",
    "        \n",
    "        filename_new = filename.split('_task-task%s' %task_num)[0] + '_run-%s' %run_count + filename.split('_task-task%s' %task_num)[1]\n",
    "\n",
    "        os.rename(filename, filename_new)  \n",
    "        print(filename_new)\n",
    "\n",
    "# get all task numbers for ses one\n",
    "def getTaskNum(directory):\n",
    "    \"\"\" Get all the task number for a session\n",
    "    \n",
    "    Parameters\n",
    "    -----------------\n",
    "    directory: data directory for a subject\n",
    "    \n",
    "    Return\n",
    "    -----------------\n",
    "    task_num: sorted task number for each session\n",
    "    \"\"\"\n",
    "    file_ses = glob.glob('sub-*_ses-1_task*_bold.nii.gz')\n",
    "    \n",
    "    task_num = []\n",
    "    \n",
    "    for file in file_ses:\n",
    "        task_id = file.split('_task-task')[1].split('_space')[0]\n",
    "        task_num.append(int(task_id))\n",
    "    \n",
    "    task_num.sort()\n",
    "    \n",
    "    return task_num"
   ]
  },
  {
   "cell_type": "code",
   "execution_count": 56,
   "metadata": {},
   "outputs": [
    {
     "data": {
      "text/plain": [
       "[3, 4, 5, 6, 7, 8, 9, 10]"
      ]
     },
     "execution_count": 56,
     "metadata": {},
     "output_type": "execute_result"
    }
   ],
   "source": [
    "getTaskNum(os.chdir(os.path.join(data_root, 'sub-2666')))"
   ]
  },
  {
   "cell_type": "code",
   "execution_count": 91,
   "metadata": {},
   "outputs": [
    {
     "name": "stdout",
     "output_type": "stream",
     "text": [
      "sub-2666_ses-1_run-3_space-fsaverage5_hemi-L.func.gii\n",
      "sub-2666_ses-1_run-3_desc-confounds_regressors.tsv\n",
      "sub-2666_ses-1_run-5_space-MNI152NLin2009cAsym_desc-preproc_bold.nii.gz\n",
      "sub-2666_ses-1_run-8_space-MNI152NLin2009cAsym_desc-preproc_bold.nii.gz\n",
      "sub-2666_ses-1_run-2_space-MNI152NLin2009cAsym_boldref.nii.gz\n",
      "sub-2666_ses-1_run-5_desc-confounds_regressors.tsv\n",
      "sub-2666_ses-1_run-5_space-MNI152NLin2009cAsym_desc-brain_mask.nii.gz\n",
      "sub-2666_ses-1_run-2_space-MNI152NLin2009cAsym_desc-preproc_bold.nii.gz\n",
      "sub-2666_ses-1_run-3_desc-confounds_regressors.json\n",
      "sub-2666_ses-1_run-6_space-MNI152NLin2009cAsym_boldref.nii.gz\n",
      "sub-2666_ses-1_run-5_space-fsaverage5_hemi-L.func.gii\n",
      "sub-2666_ses-1_run-3_space-MNI152NLin2009cAsym_boldref.nii.gz\n",
      "sub-2666_ses-1_run-1_desc-confounds_regressors.tsv\n",
      "sub-2666_ses-1_run-2_space-MNI152NLin2009cAsym_desc-aparcaseg_dseg.nii.gz\n",
      "sub-2666_ses-1_run-4_space-MNI152NLin2009cAsym_desc-brain_mask.json\n",
      "sub-2666_ses-1_run-6_space-MNI152NLin2009cAsym_desc-brain_mask.nii.gz\n",
      "sub-2666_ses-1_run-7_space-MNI152NLin2009cAsym_desc-aseg_dseg.nii.gz\n",
      "sub-2666_ses-1_run-3_space-MNI152NLin2009cAsym_desc-brain_mask.nii.gz\n",
      "sub-2666_ses-1_run-3_space-MNI152NLin2009cAsym_desc-brain_mask.json\n",
      "sub-2666_ses-1_run-5_space-fsaverage5_hemi-R.func.gii\n",
      "sub-2666_ses-1_run-3_space-MNI152NLin2009cAsym_desc-aseg_dseg.nii.gz\n",
      "sub-2666_ses-1_run-8_desc-confounds_regressors.tsv\n",
      "sub-2666_ses-1_run-7_space-MNI152NLin2009cAsym_desc-preproc_bold.json\n",
      "sub-2666_ses-1_run-1_space-MNI152NLin2009cAsym_desc-preproc_bold.nii.gz\n",
      "sub-2666_ses-1_run-8_space-fsaverage5_hemi-L.func.gii\n",
      "sub-2666_ses-1_run-8_space-MNI152NLin2009cAsym_desc-brain_mask.nii.gz\n",
      "sub-2666_ses-1_run-6_space-MNI152NLin2009cAsym_desc-aparcaseg_dseg.nii.gz\n",
      "sub-2666_ses-1_run-1_space-MNI152NLin2009cAsym_boldref.nii.gz\n",
      "sub-2666_ses-1_run-4_space-MNI152NLin2009cAsym_boldref.nii.gz\n",
      "sub-2666_ses-1_run-4_space-MNI152NLin2009cAsym_desc-preproc_bold.nii.gz\n",
      "sub-2666_ses-1_run-5_space-MNI152NLin2009cAsym_desc-preproc_bold.json\n",
      "sub-2666_ses-1_run-2_desc-confounds_regressors.json\n",
      "sub-2666_ses-1_run-1_space-MNI152NLin2009cAsym_desc-preproc_bold.json\n",
      "sub-2666_ses-1_run-7_space-MNI152NLin2009cAsym_desc-aparcaseg_dseg.nii.gz\n",
      "sub-2666_ses-1_run-1_desc-confounds_regressors.json\n",
      "sub-2666_ses-1_run-2_space-MNI152NLin2009cAsym_desc-brain_mask.json\n",
      "sub-2666_ses-1_run-8_space-MNI152NLin2009cAsym_desc-preproc_bold.json\n",
      "sub-2666_ses-1_run-1_space-MNI152NLin2009cAsym_desc-brain_mask.json\n",
      "sub-2666_ses-1_run-8_space-MNI152NLin2009cAsym_desc-aparcaseg_dseg.nii.gz\n",
      "sub-2666_ses-1_run-3_space-fsaverage5_hemi-R.func.gii\n",
      "sub-2666_ses-1_run-8_space-MNI152NLin2009cAsym_boldref.nii.gz\n",
      "sub-2666_ses-1_run-5_desc-confounds_regressors.json\n",
      "sub-2666_ses-1_run-7_space-fsaverage5_hemi-L.func.gii\n",
      "sub-2666_ses-1_run-6_desc-confounds_regressors.tsv\n",
      "sub-2666_ses-1_run-7_space-MNI152NLin2009cAsym_desc-preproc_bold.nii.gz\n",
      "sub-2666_ses-1_run-2_space-MNI152NLin2009cAsym_desc-preproc_bold.json\n",
      "sub-2666_ses-1_run-4_desc-confounds_regressors.tsv\n",
      "sub-2666_ses-1_run-1_space-MNI152NLin2009cAsym_desc-aparcaseg_dseg.nii.gz\n",
      "sub-2666_ses-1_run-6_space-fsaverage5_hemi-R.func.gii\n",
      "sub-2666_ses-1_run-4_space-fsaverage5_hemi-L.func.gii\n",
      "sub-2666_ses-1_run-7_space-MNI152NLin2009cAsym_desc-brain_mask.json\n",
      "sub-2666_ses-1_run-2_space-MNI152NLin2009cAsym_desc-brain_mask.nii.gz\n",
      "sub-2666_ses-1_run-1_space-MNI152NLin2009cAsym_desc-aseg_dseg.nii.gz\n",
      "sub-2666_ses-1_run-4_space-MNI152NLin2009cAsym_desc-brain_mask.nii.gz\n",
      "sub-2666_ses-1_run-5_space-MNI152NLin2009cAsym_desc-aseg_dseg.nii.gz\n",
      "sub-2666_ses-1_run-7_space-MNI152NLin2009cAsym_boldref.nii.gz\n",
      "sub-2666_ses-1_run-4_space-MNI152NLin2009cAsym_desc-preproc_bold.json\n",
      "sub-2666_ses-1_run-5_space-MNI152NLin2009cAsym_desc-aparcaseg_dseg.nii.gz\n",
      "sub-2666_ses-1_run-3_space-MNI152NLin2009cAsym_desc-preproc_bold.json\n",
      "sub-2666_ses-1_run-2_desc-confounds_regressors.tsv\n",
      "sub-2666_ses-1_run-6_space-MNI152NLin2009cAsym_desc-preproc_bold.nii.gz\n",
      "sub-2666_ses-1_run-6_space-MNI152NLin2009cAsym_desc-brain_mask.json\n",
      "sub-2666_ses-1_run-6_space-MNI152NLin2009cAsym_desc-preproc_bold.json\n",
      "sub-2666_ses-1_run-6_space-fsaverage5_hemi-L.func.gii\n",
      "sub-2666_ses-1_run-7_desc-confounds_regressors.json\n",
      "sub-2666_ses-1_run-1_space-fsaverage5_hemi-L.func.gii\n",
      "sub-2666_ses-1_run-8_space-MNI152NLin2009cAsym_desc-aseg_dseg.nii.gz\n",
      "sub-2666_ses-1_run-5_space-MNI152NLin2009cAsym_desc-brain_mask.json\n",
      "sub-2666_ses-1_run-2_space-fsaverage5_hemi-L.func.gii\n",
      "sub-2666_ses-1_run-4_space-fsaverage5_hemi-R.func.gii\n",
      "sub-2666_ses-1_run-2_space-MNI152NLin2009cAsym_desc-aseg_dseg.nii.gz\n",
      "sub-2666_ses-1_run-5_space-MNI152NLin2009cAsym_boldref.nii.gz\n",
      "sub-2666_ses-1_run-3_space-MNI152NLin2009cAsym_desc-aparcaseg_dseg.nii.gz\n",
      "sub-2666_ses-1_run-1_space-fsaverage5_hemi-R.func.gii\n",
      "sub-2666_ses-1_run-4_space-MNI152NLin2009cAsym_desc-aseg_dseg.nii.gz\n",
      "sub-2666_ses-1_run-1_space-MNI152NLin2009cAsym_desc-brain_mask.nii.gz\n",
      "sub-2666_ses-1_run-6_desc-confounds_regressors.json\n",
      "sub-2666_ses-1_run-3_space-MNI152NLin2009cAsym_desc-preproc_bold.nii.gz\n",
      "sub-2666_ses-1_run-4_desc-confounds_regressors.json\n",
      "sub-2666_ses-1_run-8_space-fsaverage5_hemi-R.func.gii\n",
      "sub-2666_ses-1_run-6_space-MNI152NLin2009cAsym_desc-aseg_dseg.nii.gz\n",
      "sub-2666_ses-1_run-8_space-MNI152NLin2009cAsym_desc-brain_mask.json\n",
      "sub-2666_ses-1_run-7_desc-confounds_regressors.tsv\n",
      "sub-2666_ses-1_run-7_space-MNI152NLin2009cAsym_desc-brain_mask.nii.gz\n",
      "sub-2666_ses-1_run-7_space-fsaverage5_hemi-R.func.gii\n",
      "sub-2666_ses-1_run-8_desc-confounds_regressors.json\n",
      "sub-2666_ses-1_run-2_space-fsaverage5_hemi-R.func.gii\n",
      "sub-2666_ses-1_run-4_space-MNI152NLin2009cAsym_desc-aparcaseg_dseg.nii.gz\n"
     ]
    }
   ],
   "source": [
    "addRunNum(os.path.join(data_root, 'sub-2666'))"
   ]
  },
  {
   "cell_type": "code",
   "execution_count": null,
   "metadata": {},
   "outputs": [],
   "source": [
    "def load_epi_data(data_dir,sub,run):\n",
    "    # Load MRI file (in Nifti format) of one localizer run\n",
    "    if run < 5:\n",
    "        ses_num = 1\n",
    "    elif run > 4:\n",
    "        ses_num = 2\n",
    "    epi_in = os.path.join(data_dir, 'sub-%s' %sub, \n",
    "              \"sub-%s_ses-%s_run-%s_space-MNI152NLin2009cAsym_desc-preproc_bold.nii.gz\" % (sub, ses_num, run))\n",
    "    epi_data = nib.load(epi_in)\n",
    "    print(\"Loading data from %s\" % (epi_in))\n",
    "    return epi_data"
   ]
  },
  {
   "cell_type": "code",
   "execution_count": null,
   "metadata": {},
   "outputs": [],
   "source": [
    "def load_whb_mask(sub, data_root):\n",
    "    \"\"\"Load whole brain mask for a subject\n",
    "    \n",
    "    Parameters\n",
    "    -----------\n",
    "    data_root: root data directory\n",
    "    sub: subject number\n",
    "    \n",
    "    Return\n",
    "    -----------\n",
    "    mask: loaded whole-brain data\n",
    "    \"\"\"\n",
    "    \n",
    "    maskfile = os.path.join(data_root, 'sub-%s' %sub, 'sub-%s_ses-1_run-1_space-MNI152NLin2009cAsym_desc-brain_mask.nii.gz' %sub)\n",
    "    mask = nib.load(maskfile)\n",
    "    return mask"
   ]
  }
 ],
 "metadata": {
  "kernelspec": {
   "display_name": "Python 3",
   "language": "python",
   "name": "python3"
  },
  "language_info": {
   "codemirror_mode": {
    "name": "ipython",
    "version": 3
   },
   "file_extension": ".py",
   "mimetype": "text/x-python",
   "name": "python",
   "nbconvert_exporter": "python",
   "pygments_lexer": "ipython3",
   "version": "3.6.8"
  }
 },
 "nbformat": 4,
 "nbformat_minor": 2
}
